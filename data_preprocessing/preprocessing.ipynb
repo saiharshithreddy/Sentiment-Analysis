{
 "cells": [
  {
   "cell_type": "code",
   "execution_count": 1,
   "metadata": {},
   "outputs": [],
   "source": [
    "%load_ext autotime"
   ]
  },
  {
   "cell_type": "code",
   "execution_count": 2,
   "metadata": {},
   "outputs": [
    {
     "name": "stdout",
     "output_type": "stream",
     "text": [
      "time: 3.13 s\n"
     ]
    }
   ],
   "source": [
    "import pandas as pd\n",
    "import seaborn as sns\n",
    "import matplotlib.pyplot as plt\n",
    "import re"
   ]
  },
  {
   "cell_type": "code",
   "execution_count": 3,
   "metadata": {},
   "outputs": [
    {
     "name": "stdout",
     "output_type": "stream",
     "text": [
      "time: 1.33 s\n"
     ]
    }
   ],
   "source": [
    "from nltk.tokenize import word_tokenize\n",
    "from nltk import pos_tag\n",
    "from nltk.corpus import stopwords\n",
    "from nltk.stem import WordNetLemmatizer\n",
    "from sklearn.preprocessing import LabelEncoder\n",
    "from collections import defaultdict"
   ]
  },
  {
   "cell_type": "code",
   "execution_count": 4,
   "metadata": {},
   "outputs": [
    {
     "name": "stdout",
     "output_type": "stream",
     "text": [
      "(6685900, 9)\n",
      "time: 2min 13s\n"
     ]
    }
   ],
   "source": [
    "data = pd.read_csv('./review.csv')\n",
    "print(data.shape)"
   ]
  },
  {
   "cell_type": "code",
   "execution_count": 5,
   "metadata": {},
   "outputs": [
    {
     "data": {
      "text/html": [
       "<div>\n",
       "<style scoped>\n",
       "    .dataframe tbody tr th:only-of-type {\n",
       "        vertical-align: middle;\n",
       "    }\n",
       "\n",
       "    .dataframe tbody tr th {\n",
       "        vertical-align: top;\n",
       "    }\n",
       "\n",
       "    .dataframe thead th {\n",
       "        text-align: right;\n",
       "    }\n",
       "</style>\n",
       "<table border=\"1\" class=\"dataframe\">\n",
       "  <thead>\n",
       "    <tr style=\"text-align: right;\">\n",
       "      <th></th>\n",
       "      <th>business_id</th>\n",
       "      <th>cool</th>\n",
       "      <th>date</th>\n",
       "      <th>funny</th>\n",
       "      <th>review_id</th>\n",
       "      <th>stars</th>\n",
       "      <th>text</th>\n",
       "      <th>useful</th>\n",
       "      <th>user_id</th>\n",
       "    </tr>\n",
       "  </thead>\n",
       "  <tbody>\n",
       "    <tr>\n",
       "      <th>6392908</th>\n",
       "      <td>02ooNKJDjsE50KfmL0Rqdw</td>\n",
       "      <td>0</td>\n",
       "      <td>2017-06-02 05:58:34</td>\n",
       "      <td>0</td>\n",
       "      <td>eHfR_ItN52BZ3WjubYdUtQ</td>\n",
       "      <td>1.0</td>\n",
       "      <td>Tonight at 9:12pm I drove about half mile from...</td>\n",
       "      <td>0</td>\n",
       "      <td>JRrYdtdd1G0kdHbDliPQGw</td>\n",
       "    </tr>\n",
       "    <tr>\n",
       "      <th>5538702</th>\n",
       "      <td>X3W-ddwbnZ2uAyYOxcYu3A</td>\n",
       "      <td>0</td>\n",
       "      <td>2013-10-11 14:23:09</td>\n",
       "      <td>0</td>\n",
       "      <td>0qlSfKZ_ptiaZl7dd8WRBg</td>\n",
       "      <td>5.0</td>\n",
       "      <td>Time for a review update.  Over the past few y...</td>\n",
       "      <td>0</td>\n",
       "      <td>QJI9OSEn6ujRCtrX06vs1w</td>\n",
       "    </tr>\n",
       "    <tr>\n",
       "      <th>3888716</th>\n",
       "      <td>XvTBQotmJpVPjPNaMM7qLA</td>\n",
       "      <td>1</td>\n",
       "      <td>2010-03-05 15:10:19</td>\n",
       "      <td>1</td>\n",
       "      <td>bxZvv6pnM2dAMsqvvDOQtA</td>\n",
       "      <td>1.0</td>\n",
       "      <td>Not a fan of this particular location - I thin...</td>\n",
       "      <td>1</td>\n",
       "      <td>Y9H4ZSbAUthSMR7hB1HKsg</td>\n",
       "    </tr>\n",
       "    <tr>\n",
       "      <th>4096036</th>\n",
       "      <td>Xp6ogw-SCNK28s1I0fhUXw</td>\n",
       "      <td>0</td>\n",
       "      <td>2015-04-04 03:39:27</td>\n",
       "      <td>0</td>\n",
       "      <td>zp81-8QahYBM-z9RtprOcA</td>\n",
       "      <td>4.0</td>\n",
       "      <td>I was sold when I saw fresh mushrooms rather t...</td>\n",
       "      <td>0</td>\n",
       "      <td>H4tAHO1rETfWtqcjPUuk1A</td>\n",
       "    </tr>\n",
       "    <tr>\n",
       "      <th>2542168</th>\n",
       "      <td>BT5CAwvOSYMsfBN8KCZaNQ</td>\n",
       "      <td>0</td>\n",
       "      <td>2018-05-05 22:39:49</td>\n",
       "      <td>0</td>\n",
       "      <td>l77NbGLdoMx6an-ydMEPvA</td>\n",
       "      <td>5.0</td>\n",
       "      <td>Gelato spot hit the spot on this 102 degree da...</td>\n",
       "      <td>2</td>\n",
       "      <td>1zHr8MWy6qDcq7ZUZ4UlHA</td>\n",
       "    </tr>\n",
       "  </tbody>\n",
       "</table>\n",
       "</div>"
      ],
      "text/plain": [
       "                    business_id  cool                 date  funny  \\\n",
       "6392908  02ooNKJDjsE50KfmL0Rqdw     0  2017-06-02 05:58:34      0   \n",
       "5538702  X3W-ddwbnZ2uAyYOxcYu3A     0  2013-10-11 14:23:09      0   \n",
       "3888716  XvTBQotmJpVPjPNaMM7qLA     1  2010-03-05 15:10:19      1   \n",
       "4096036  Xp6ogw-SCNK28s1I0fhUXw     0  2015-04-04 03:39:27      0   \n",
       "2542168  BT5CAwvOSYMsfBN8KCZaNQ     0  2018-05-05 22:39:49      0   \n",
       "\n",
       "                      review_id  stars  \\\n",
       "6392908  eHfR_ItN52BZ3WjubYdUtQ    1.0   \n",
       "5538702  0qlSfKZ_ptiaZl7dd8WRBg    5.0   \n",
       "3888716  bxZvv6pnM2dAMsqvvDOQtA    1.0   \n",
       "4096036  zp81-8QahYBM-z9RtprOcA    4.0   \n",
       "2542168  l77NbGLdoMx6an-ydMEPvA    5.0   \n",
       "\n",
       "                                                      text  useful  \\\n",
       "6392908  Tonight at 9:12pm I drove about half mile from...       0   \n",
       "5538702  Time for a review update.  Over the past few y...       0   \n",
       "3888716  Not a fan of this particular location - I thin...       1   \n",
       "4096036  I was sold when I saw fresh mushrooms rather t...       0   \n",
       "2542168  Gelato spot hit the spot on this 102 degree da...       2   \n",
       "\n",
       "                        user_id  \n",
       "6392908  JRrYdtdd1G0kdHbDliPQGw  \n",
       "5538702  QJI9OSEn6ujRCtrX06vs1w  \n",
       "3888716  Y9H4ZSbAUthSMR7hB1HKsg  \n",
       "4096036  H4tAHO1rETfWtqcjPUuk1A  \n",
       "2542168  1zHr8MWy6qDcq7ZUZ4UlHA  "
      ]
     },
     "execution_count": 5,
     "metadata": {},
     "output_type": "execute_result"
    },
    {
     "name": "stdout",
     "output_type": "stream",
     "text": [
      "time: 685 ms\n"
     ]
    }
   ],
   "source": [
    "data.sample(5)"
   ]
  },
  {
   "cell_type": "code",
   "execution_count": 6,
   "metadata": {},
   "outputs": [
    {
     "name": "stdout",
     "output_type": "stream",
     "text": [
      "time: 516 ms\n"
     ]
    }
   ],
   "source": [
    "df = data.loc[:,['text', 'stars','cool','funny','useful']]"
   ]
  },
  {
   "cell_type": "code",
   "execution_count": 7,
   "metadata": {},
   "outputs": [
    {
     "data": {
      "text/html": [
       "<div>\n",
       "<style scoped>\n",
       "    .dataframe tbody tr th:only-of-type {\n",
       "        vertical-align: middle;\n",
       "    }\n",
       "\n",
       "    .dataframe tbody tr th {\n",
       "        vertical-align: top;\n",
       "    }\n",
       "\n",
       "    .dataframe thead th {\n",
       "        text-align: right;\n",
       "    }\n",
       "</style>\n",
       "<table border=\"1\" class=\"dataframe\">\n",
       "  <thead>\n",
       "    <tr style=\"text-align: right;\">\n",
       "      <th></th>\n",
       "      <th>text</th>\n",
       "      <th>stars</th>\n",
       "      <th>cool</th>\n",
       "      <th>funny</th>\n",
       "      <th>useful</th>\n",
       "    </tr>\n",
       "  </thead>\n",
       "  <tbody>\n",
       "    <tr>\n",
       "      <th>2623914</th>\n",
       "      <td>Service was poor and food was alright and a li...</td>\n",
       "      <td>2.0</td>\n",
       "      <td>0</td>\n",
       "      <td>0</td>\n",
       "      <td>0</td>\n",
       "    </tr>\n",
       "    <tr>\n",
       "      <th>5939732</th>\n",
       "      <td>Very happy with this taco shop and would defin...</td>\n",
       "      <td>4.0</td>\n",
       "      <td>1</td>\n",
       "      <td>0</td>\n",
       "      <td>1</td>\n",
       "    </tr>\n",
       "    <tr>\n",
       "      <th>1216630</th>\n",
       "      <td>Still a strange concept to order a burger for ...</td>\n",
       "      <td>4.0</td>\n",
       "      <td>0</td>\n",
       "      <td>0</td>\n",
       "      <td>0</td>\n",
       "    </tr>\n",
       "    <tr>\n",
       "      <th>1723708</th>\n",
       "      <td>Do not do business  with this agent. ! I have ...</td>\n",
       "      <td>1.0</td>\n",
       "      <td>0</td>\n",
       "      <td>0</td>\n",
       "      <td>5</td>\n",
       "    </tr>\n",
       "    <tr>\n",
       "      <th>1153637</th>\n",
       "      <td>My husband and I got serious food poisoning th...</td>\n",
       "      <td>1.0</td>\n",
       "      <td>0</td>\n",
       "      <td>0</td>\n",
       "      <td>0</td>\n",
       "    </tr>\n",
       "  </tbody>\n",
       "</table>\n",
       "</div>"
      ],
      "text/plain": [
       "                                                      text  stars  cool  \\\n",
       "2623914  Service was poor and food was alright and a li...    2.0     0   \n",
       "5939732  Very happy with this taco shop and would defin...    4.0     1   \n",
       "1216630  Still a strange concept to order a burger for ...    4.0     0   \n",
       "1723708  Do not do business  with this agent. ! I have ...    1.0     0   \n",
       "1153637  My husband and I got serious food poisoning th...    1.0     0   \n",
       "\n",
       "         funny  useful  \n",
       "2623914      0       0  \n",
       "5939732      0       1  \n",
       "1216630      0       0  \n",
       "1723708      0       5  \n",
       "1153637      0       0  "
      ]
     },
     "execution_count": 7,
     "metadata": {},
     "output_type": "execute_result"
    },
    {
     "name": "stdout",
     "output_type": "stream",
     "text": [
      "time: 585 ms\n"
     ]
    }
   ],
   "source": [
    "df.sample(5)"
   ]
  },
  {
   "cell_type": "code",
   "execution_count": 8,
   "metadata": {},
   "outputs": [
    {
     "name": "stdout",
     "output_type": "stream",
     "text": [
      "<class 'pandas.core.frame.DataFrame'>\n",
      "RangeIndex: 6685900 entries, 0 to 6685899\n",
      "Data columns (total 5 columns):\n",
      "text      object\n",
      "stars     float64\n",
      "cool      int64\n",
      "funny     int64\n",
      "useful    int64\n",
      "dtypes: float64(1), int64(3), object(1)\n",
      "memory usage: 255.0+ MB\n",
      "time: 10.9 ms\n"
     ]
    }
   ],
   "source": [
    "df.info()"
   ]
  },
  {
   "cell_type": "code",
   "execution_count": 9,
   "metadata": {},
   "outputs": [
    {
     "data": {
      "text/plain": [
       "3.7161993149762935"
      ]
     },
     "execution_count": 9,
     "metadata": {},
     "output_type": "execute_result"
    },
    {
     "name": "stdout",
     "output_type": "stream",
     "text": [
      "time: 25.6 ms\n"
     ]
    }
   ],
   "source": [
    "df.stars.mean()"
   ]
  },
  {
   "cell_type": "code",
   "execution_count": 10,
   "metadata": {},
   "outputs": [
    {
     "data": {
      "text/plain": [
       "Text(0.5, 1.0, 'CountPlot')"
      ]
     },
     "execution_count": 10,
     "metadata": {},
     "output_type": "execute_result"
    },
    {
     "data": {
      "image/png": "[encoded data removed]",
      "text/plain": [
       "<Figure size 432x288 with 1 Axes>"
      ]
     },
     "metadata": {
      "needs_background": "light"
     },
     "output_type": "display_data"
    },
    {
     "name": "stdout",
     "output_type": "stream",
     "text": [
      "time: 1.43 s\n"
     ]
    }
   ],
   "source": [
    "sns.countplot(df.stars)\n",
    "plt.xlabel('Stars')\n",
    "plt.title('CountPlot')"
   ]
  },
  {
   "cell_type": "code",
   "execution_count": 11,
   "metadata": {},
   "outputs": [
    {
     "data": {
      "text/html": [
       "<div>\n",
       "<style scoped>\n",
       "    .dataframe tbody tr th:only-of-type {\n",
       "        vertical-align: middle;\n",
       "    }\n",
       "\n",
       "    .dataframe tbody tr th {\n",
       "        vertical-align: top;\n",
       "    }\n",
       "\n",
       "    .dataframe thead th {\n",
       "        text-align: right;\n",
       "    }\n",
       "</style>\n",
       "<table border=\"1\" class=\"dataframe\">\n",
       "  <thead>\n",
       "    <tr style=\"text-align: right;\">\n",
       "      <th></th>\n",
       "      <th>Missing count</th>\n",
       "      <th>Missing %</th>\n",
       "    </tr>\n",
       "  </thead>\n",
       "  <tbody>\n",
       "    <tr>\n",
       "      <th>text</th>\n",
       "      <td>2</td>\n",
       "      <td>0.00003</td>\n",
       "    </tr>\n",
       "    <tr>\n",
       "      <th>stars</th>\n",
       "      <td>0</td>\n",
       "      <td>0.00000</td>\n",
       "    </tr>\n",
       "    <tr>\n",
       "      <th>cool</th>\n",
       "      <td>0</td>\n",
       "      <td>0.00000</td>\n",
       "    </tr>\n",
       "    <tr>\n",
       "      <th>funny</th>\n",
       "      <td>0</td>\n",
       "      <td>0.00000</td>\n",
       "    </tr>\n",
       "    <tr>\n",
       "      <th>useful</th>\n",
       "      <td>0</td>\n",
       "      <td>0.00000</td>\n",
       "    </tr>\n",
       "  </tbody>\n",
       "</table>\n",
       "</div>"
      ],
      "text/plain": [
       "        Missing count  Missing %\n",
       "text                2    0.00003\n",
       "stars               0    0.00000\n",
       "cool                0    0.00000\n",
       "funny               0    0.00000\n",
       "useful              0    0.00000"
      ]
     },
     "execution_count": 11,
     "metadata": {},
     "output_type": "execute_result"
    },
    {
     "name": "stdout",
     "output_type": "stream",
     "text": [
      "time: 4.18 s\n"
     ]
    }
   ],
   "source": [
    "result = pd.concat([df.isnull().sum(),df.isnull().mean()*100],axis=1)\n",
    "result = result.rename(index=str,columns={0:'Missing count',1:'Missing %'})\n",
    "result.head()"
   ]
  },
  {
   "cell_type": "code",
   "execution_count": 12,
   "metadata": {},
   "outputs": [
    {
     "name": "stdout",
     "output_type": "stream",
     "text": [
      "time: 5.26 s\n"
     ]
    }
   ],
   "source": [
    "df = df.dropna()"
   ]
  },
  {
   "cell_type": "code",
   "execution_count": 13,
   "metadata": {},
   "outputs": [
    {
     "name": "stdout",
     "output_type": "stream",
     "text": [
      "time: 7.65 ms\n"
     ]
    }
   ],
   "source": [
    "df_t = df.iloc[:1000,:]"
   ]
  },
  {
   "cell_type": "code",
   "execution_count": 14,
   "metadata": {},
   "outputs": [
    {
     "data": {
      "text/html": [
       "<div>\n",
       "<style scoped>\n",
       "    .dataframe tbody tr th:only-of-type {\n",
       "        vertical-align: middle;\n",
       "    }\n",
       "\n",
       "    .dataframe tbody tr th {\n",
       "        vertical-align: top;\n",
       "    }\n",
       "\n",
       "    .dataframe thead th {\n",
       "        text-align: right;\n",
       "    }\n",
       "</style>\n",
       "<table border=\"1\" class=\"dataframe\">\n",
       "  <thead>\n",
       "    <tr style=\"text-align: right;\">\n",
       "      <th></th>\n",
       "      <th>Missing count</th>\n",
       "      <th>Missing %</th>\n",
       "    </tr>\n",
       "  </thead>\n",
       "  <tbody>\n",
       "    <tr>\n",
       "      <th>text</th>\n",
       "      <td>0</td>\n",
       "      <td>0.0</td>\n",
       "    </tr>\n",
       "    <tr>\n",
       "      <th>stars</th>\n",
       "      <td>0</td>\n",
       "      <td>0.0</td>\n",
       "    </tr>\n",
       "    <tr>\n",
       "      <th>cool</th>\n",
       "      <td>0</td>\n",
       "      <td>0.0</td>\n",
       "    </tr>\n",
       "    <tr>\n",
       "      <th>funny</th>\n",
       "      <td>0</td>\n",
       "      <td>0.0</td>\n",
       "    </tr>\n",
       "    <tr>\n",
       "      <th>useful</th>\n",
       "      <td>0</td>\n",
       "      <td>0.0</td>\n",
       "    </tr>\n",
       "  </tbody>\n",
       "</table>\n",
       "</div>"
      ],
      "text/plain": [
       "        Missing count  Missing %\n",
       "text                0        0.0\n",
       "stars               0        0.0\n",
       "cool                0        0.0\n",
       "funny               0        0.0\n",
       "useful              0        0.0"
      ]
     },
     "execution_count": 14,
     "metadata": {},
     "output_type": "execute_result"
    },
    {
     "name": "stdout",
     "output_type": "stream",
     "text": [
      "time: 4.9 s\n"
     ]
    }
   ],
   "source": [
    "result = pd.concat([df.isnull().sum(),df.isnull().mean()*100],axis=1)\n",
    "result = result.rename(index=str,columns={0:'Missing count',1:'Missing %'})\n",
    "result.head()"
   ]
  },
  {
   "cell_type": "code",
   "execution_count": 15,
   "metadata": {},
   "outputs": [
    {
     "name": "stdout",
     "output_type": "stream",
     "text": [
      "time: 92.9 ms\n"
     ]
    },
    {
     "name": "stderr",
     "output_type": "stream",
     "text": [
      "C:\\Users\\saiha\\Anaconda3\\lib\\site-packages\\pandas\\core\\generic.py:5086: SettingWithCopyWarning: \n",
      "A value is trying to be set on a copy of a slice from a DataFrame.\n",
      "Try using .loc[row_indexer,col_indexer] = value instead\n",
      "\n",
      "See the caveats in the documentation: http://pandas.pydata.org/pandas-docs/stable/indexing.html#indexing-view-versus-copy\n",
      "  self[name] = value\n"
     ]
    }
   ],
   "source": [
    "df_t.stars = df_t.stars.map({5:1,4:1,3:1,2:-1,1:-1})"
   ]
  },
  {
   "cell_type": "code",
   "execution_count": 16,
   "metadata": {},
   "outputs": [
    {
     "data": {
      "text/html": [
       "<div>\n",
       "<style scoped>\n",
       "    .dataframe tbody tr th:only-of-type {\n",
       "        vertical-align: middle;\n",
       "    }\n",
       "\n",
       "    .dataframe tbody tr th {\n",
       "        vertical-align: top;\n",
       "    }\n",
       "\n",
       "    .dataframe thead th {\n",
       "        text-align: right;\n",
       "    }\n",
       "</style>\n",
       "<table border=\"1\" class=\"dataframe\">\n",
       "  <thead>\n",
       "    <tr style=\"text-align: right;\">\n",
       "      <th></th>\n",
       "      <th>text</th>\n",
       "      <th>stars</th>\n",
       "      <th>cool</th>\n",
       "      <th>funny</th>\n",
       "      <th>useful</th>\n",
       "    </tr>\n",
       "  </thead>\n",
       "  <tbody>\n",
       "    <tr>\n",
       "      <th>0</th>\n",
       "      <td>Total bill for this horrible service? Over $8G...</td>\n",
       "      <td>-1</td>\n",
       "      <td>0</td>\n",
       "      <td>1</td>\n",
       "      <td>6</td>\n",
       "    </tr>\n",
       "    <tr>\n",
       "      <th>1</th>\n",
       "      <td>I *adore* Travis at the Hard Rock's new Kelly ...</td>\n",
       "      <td>1</td>\n",
       "      <td>0</td>\n",
       "      <td>0</td>\n",
       "      <td>0</td>\n",
       "    </tr>\n",
       "    <tr>\n",
       "      <th>2</th>\n",
       "      <td>I have to say that this office really has it t...</td>\n",
       "      <td>1</td>\n",
       "      <td>0</td>\n",
       "      <td>0</td>\n",
       "      <td>3</td>\n",
       "    </tr>\n",
       "    <tr>\n",
       "      <th>3</th>\n",
       "      <td>Went in for a lunch. Steak sandwich was delici...</td>\n",
       "      <td>1</td>\n",
       "      <td>0</td>\n",
       "      <td>0</td>\n",
       "      <td>0</td>\n",
       "    </tr>\n",
       "    <tr>\n",
       "      <th>4</th>\n",
       "      <td>Today was my second out of three sessions I ha...</td>\n",
       "      <td>-1</td>\n",
       "      <td>0</td>\n",
       "      <td>0</td>\n",
       "      <td>7</td>\n",
       "    </tr>\n",
       "  </tbody>\n",
       "</table>\n",
       "</div>"
      ],
      "text/plain": [
       "                                                text  stars  cool  funny  \\\n",
       "0  Total bill for this horrible service? Over $8G...     -1     0      1   \n",
       "1  I *adore* Travis at the Hard Rock's new Kelly ...      1     0      0   \n",
       "2  I have to say that this office really has it t...      1     0      0   \n",
       "3  Went in for a lunch. Steak sandwich was delici...      1     0      0   \n",
       "4  Today was my second out of three sessions I ha...     -1     0      0   \n",
       "\n",
       "   useful  \n",
       "0       6  \n",
       "1       0  \n",
       "2       3  \n",
       "3       0  \n",
       "4       7  "
      ]
     },
     "execution_count": 16,
     "metadata": {},
     "output_type": "execute_result"
    },
    {
     "name": "stdout",
     "output_type": "stream",
     "text": [
      "time: 32.2 ms\n"
     ]
    }
   ],
   "source": [
    "df_t.head()"
   ]
  },
  {
   "cell_type": "markdown",
   "metadata": {},
   "source": [
    "### Data preprocessing"
   ]
  },
  {
   "cell_type": "markdown",
   "metadata": {},
   "source": [
    "1. Lemmetization\n",
    "2. Stop words removal\n",
    "3. Remove punctuations\n",
    "4. Converting uppercase words to lowercase"
   ]
  },
  {
   "cell_type": "code",
   "execution_count": 17,
   "metadata": {},
   "outputs": [
    {
     "name": "stdout",
     "output_type": "stream",
     "text": [
      "time: 10.3 ms\n"
     ]
    }
   ],
   "source": [
    "def clean_text(text):\n",
    "    '''Remove unwanted characters, stopwords, and format the text to create fewer nulls word embeddings'''\n",
    "    \n",
    "    # Convert words to lower case\n",
    "    text = text.lower()\n",
    "    \n",
    "    # Format words and remove unwanted characters\n",
    "    text = re.sub(r'https?:\\/\\/.*[\\r\\n]*', '', text, flags=re.MULTILINE)\n",
    "    text = re.sub(r'\\<a href', ' ', text)\n",
    "    text = re.sub(r'&amp;', '', text) \n",
    "    text = re.sub(r'[_\"\\-;%()|+&=*%.,!?:#$@\\[\\]/]', ' ', text)\n",
    "    text = re.sub(r'<br />', ' ', text)\n",
    "    text = re.sub(r'\\'', ' ', text)\n",
    "    \n",
    "    # Optionally, remove stop words\n",
    "    \n",
    "    text = text.split()\n",
    "    stops = set(stopwords.words(\"english\"))\n",
    "    text = [w for w in text if not w in stops]\n",
    "    text = \" \".join(text)\n",
    "\n",
    "    return text"
   ]
  },
  {
   "cell_type": "code",
   "execution_count": 18,
   "metadata": {},
   "outputs": [
    {
     "name": "stdout",
     "output_type": "stream",
     "text": [
      "time: 1.07 ms\n"
     ]
    }
   ],
   "source": [
    "#clean_t = []\n",
    "#for i, row in df.iterrows():\n",
    "#    clean_t.append(clean_text(row['text']))\n",
    "#df['text'] = pd.Series(clean_text)"
   ]
  },
  {
   "cell_type": "code",
   "execution_count": 21,
   "metadata": {},
   "outputs": [
    {
     "name": "stdout",
     "output_type": "stream",
     "text": [
      "time: 661 ms\n"
     ]
    },
    {
     "name": "stderr",
     "output_type": "stream",
     "text": [
      "C:\\Users\\saiha\\Anaconda3\\lib\\site-packages\\ipykernel_launcher.py:1: SettingWithCopyWarning: \n",
      "A value is trying to be set on a copy of a slice from a DataFrame.\n",
      "Try using .loc[row_indexer,col_indexer] = value instead\n",
      "\n",
      "See the caveats in the documentation: http://pandas.pydata.org/pandas-docs/stable/indexing.html#indexing-view-versus-copy\n",
      "  \"\"\"Entry point for launching an IPython kernel.\n"
     ]
    }
   ],
   "source": [
    "df_t['text'] = df_t.loc[:,'text'].apply(clean_text)"
   ]
  },
  {
   "cell_type": "code",
   "execution_count": 22,
   "metadata": {},
   "outputs": [
    {
     "data": {
      "text/html": [
       "<div>\n",
       "<style scoped>\n",
       "    .dataframe tbody tr th:only-of-type {\n",
       "        vertical-align: middle;\n",
       "    }\n",
       "\n",
       "    .dataframe tbody tr th {\n",
       "        vertical-align: top;\n",
       "    }\n",
       "\n",
       "    .dataframe thead th {\n",
       "        text-align: right;\n",
       "    }\n",
       "</style>\n",
       "<table border=\"1\" class=\"dataframe\">\n",
       "  <thead>\n",
       "    <tr style=\"text-align: right;\">\n",
       "      <th></th>\n",
       "      <th>text</th>\n",
       "      <th>stars</th>\n",
       "      <th>cool</th>\n",
       "      <th>funny</th>\n",
       "      <th>useful</th>\n",
       "    </tr>\n",
       "  </thead>\n",
       "  <tbody>\n",
       "    <tr>\n",
       "      <th>0</th>\n",
       "      <td>total bill horrible service 8gs crooks actuall...</td>\n",
       "      <td>-1</td>\n",
       "      <td>0</td>\n",
       "      <td>1</td>\n",
       "      <td>6</td>\n",
       "    </tr>\n",
       "    <tr>\n",
       "      <th>1</th>\n",
       "      <td>adore travis hard rock new kelly cardenas salo...</td>\n",
       "      <td>1</td>\n",
       "      <td>0</td>\n",
       "      <td>0</td>\n",
       "      <td>0</td>\n",
       "    </tr>\n",
       "    <tr>\n",
       "      <th>2</th>\n",
       "      <td>say office really together organized friendly ...</td>\n",
       "      <td>1</td>\n",
       "      <td>0</td>\n",
       "      <td>0</td>\n",
       "      <td>3</td>\n",
       "    </tr>\n",
       "    <tr>\n",
       "      <th>3</th>\n",
       "      <td>went lunch steak sandwich delicious caesar sal...</td>\n",
       "      <td>1</td>\n",
       "      <td>0</td>\n",
       "      <td>0</td>\n",
       "      <td>0</td>\n",
       "    </tr>\n",
       "    <tr>\n",
       "      <th>4</th>\n",
       "      <td>today second three sessions paid although firs...</td>\n",
       "      <td>-1</td>\n",
       "      <td>0</td>\n",
       "      <td>0</td>\n",
       "      <td>7</td>\n",
       "    </tr>\n",
       "  </tbody>\n",
       "</table>\n",
       "</div>"
      ],
      "text/plain": [
       "                                                text  stars  cool  funny  \\\n",
       "0  total bill horrible service 8gs crooks actuall...     -1     0      1   \n",
       "1  adore travis hard rock new kelly cardenas salo...      1     0      0   \n",
       "2  say office really together organized friendly ...      1     0      0   \n",
       "3  went lunch steak sandwich delicious caesar sal...      1     0      0   \n",
       "4  today second three sessions paid although firs...     -1     0      0   \n",
       "\n",
       "   useful  \n",
       "0       6  \n",
       "1       0  \n",
       "2       3  \n",
       "3       0  \n",
       "4       7  "
      ]
     },
     "execution_count": 22,
     "metadata": {},
     "output_type": "execute_result"
    },
    {
     "name": "stdout",
     "output_type": "stream",
     "text": [
      "time: 9.97 ms\n"
     ]
    }
   ],
   "source": [
    "df_t.head()"
   ]
  },
  {
   "cell_type": "code",
   "execution_count": null,
   "metadata": {},
   "outputs": [],
   "source": []
  }
 ],
 "metadata": {
  "kernelspec": {
   "display_name": "Python 3",
   "language": "python",
   "name": "python3"
  },
  "language_info": {
   "codemirror_mode": {
    "name": "ipython",
    "version": 3
   },
   "file_extension": ".py",
   "mimetype": "text/x-python",
   "name": "python",
   "nbconvert_exporter": "python",
   "pygments_lexer": "ipython3",
   "version": "3.7.0"
  }
 },
 "nbformat": 4,
 "nbformat_minor": 2
}
