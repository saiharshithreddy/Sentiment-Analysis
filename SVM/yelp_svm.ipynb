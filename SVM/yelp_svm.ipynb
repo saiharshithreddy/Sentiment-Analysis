{
 "cells": [
  {
   "cell_type": "code",
   "execution_count": 2,
   "metadata": {},
   "outputs": [],
   "source": [
    "import pandas as pd\n",
    "import nltk\n",
    "from nltk.corpus import stopwords\n",
    "from textblob import TextBlob\n",
    "import langid\n",
    "import warnings\n",
    "warnings.filterwarnings('ignore')\n",
    "import seaborn as sns\n",
    "from sklearn.metrics import accuracy_score\n",
    "from sklearn.metrics import classification_report"
   ]
  },
  {
   "cell_type": "code",
   "execution_count": 3,
   "metadata": {},
   "outputs": [],
   "source": [
    "def detect_lang(x):\n",
    "    '''\n",
    "    1. Takes the input and detects the language and assigns it to the lang\n",
    "    2. Returns the first element in lang\n",
    "    '''\n",
    "    lang = langid.classify(x)\n",
    "    return lang[0]"
   ]
  },
  {
   "cell_type": "code",
   "execution_count": 4,
   "metadata": {},
   "outputs": [],
   "source": [
    "def load_review():\n",
    "    '''\n",
    "    1. Importing the csv file into a dataframe\n",
    "    2. Dropping columns other than business_id, stars and text\n",
    "    3. Applying the language detection on the text reviews\n",
    "    4. Filter the dataframe based on language of text \n",
    "    5. Return the dataframe\n",
    "    '''\n",
    "    \n",
    "    reviews = pd.read_csv('review.csv', nrows=10000)\n",
    "    \n",
    "    reviews = reviews.loc[:, [\"business_id\", \"stars\", \"text\"]]\n",
    "\n",
    "    reviews['lang'] = reviews['text'].apply(lambda row: detect_lang(row))\n",
    "    \n",
    "    review = reviews.loc[reviews['lang'] == 'en']\n",
    "    \n",
    "    return review"
   ]
  },
  {
   "cell_type": "code",
   "execution_count": 19,
   "metadata": {},
   "outputs": [],
   "source": [
    "review_df = load_review()"
   ]
  },
  {
   "cell_type": "code",
   "execution_count": 31,
   "metadata": {},
   "outputs": [
    {
     "data": {
      "text/html": [
       "<div>\n",
       "<style scoped>\n",
       "    .dataframe tbody tr th:only-of-type {\n",
       "        vertical-align: middle;\n",
       "    }\n",
       "\n",
       "    .dataframe tbody tr th {\n",
       "        vertical-align: top;\n",
       "    }\n",
       "\n",
       "    .dataframe thead th {\n",
       "        text-align: right;\n",
       "    }\n",
       "</style>\n",
       "<table border=\"1\" class=\"dataframe\">\n",
       "  <thead>\n",
       "    <tr style=\"text-align: right;\">\n",
       "      <th></th>\n",
       "      <th>business_id</th>\n",
       "      <th>stars</th>\n",
       "      <th>text</th>\n",
       "      <th>lang</th>\n",
       "    </tr>\n",
       "  </thead>\n",
       "  <tbody>\n",
       "    <tr>\n",
       "      <th>0</th>\n",
       "      <td>ujmEBvifdJM6h6RLv4wQIg</td>\n",
       "      <td>1.0</td>\n",
       "      <td>Total bill for this horrible service? Over $8G...</td>\n",
       "      <td>en</td>\n",
       "    </tr>\n",
       "    <tr>\n",
       "      <th>1</th>\n",
       "      <td>NZnhc2sEQy3RmzKTZnqtwQ</td>\n",
       "      <td>5.0</td>\n",
       "      <td>I *adore* Travis at the Hard Rock's new Kelly ...</td>\n",
       "      <td>en</td>\n",
       "    </tr>\n",
       "    <tr>\n",
       "      <th>2</th>\n",
       "      <td>WTqjgwHlXbSFevF32_DJVw</td>\n",
       "      <td>5.0</td>\n",
       "      <td>I have to say that this office really has it t...</td>\n",
       "      <td>en</td>\n",
       "    </tr>\n",
       "    <tr>\n",
       "      <th>3</th>\n",
       "      <td>ikCg8xy5JIg_NGPx-MSIDA</td>\n",
       "      <td>5.0</td>\n",
       "      <td>Went in for a lunch. Steak sandwich was delici...</td>\n",
       "      <td>en</td>\n",
       "    </tr>\n",
       "    <tr>\n",
       "      <th>4</th>\n",
       "      <td>b1b1eb3uo-w561D0ZfCEiQ</td>\n",
       "      <td>1.0</td>\n",
       "      <td>Today was my second out of three sessions I ha...</td>\n",
       "      <td>en</td>\n",
       "    </tr>\n",
       "  </tbody>\n",
       "</table>\n",
       "</div>"
      ],
      "text/plain": [
       "              business_id  stars  \\\n",
       "0  ujmEBvifdJM6h6RLv4wQIg    1.0   \n",
       "1  NZnhc2sEQy3RmzKTZnqtwQ    5.0   \n",
       "2  WTqjgwHlXbSFevF32_DJVw    5.0   \n",
       "3  ikCg8xy5JIg_NGPx-MSIDA    5.0   \n",
       "4  b1b1eb3uo-w561D0ZfCEiQ    1.0   \n",
       "\n",
       "                                                text lang  \n",
       "0  Total bill for this horrible service? Over $8G...   en  \n",
       "1  I *adore* Travis at the Hard Rock's new Kelly ...   en  \n",
       "2  I have to say that this office really has it t...   en  \n",
       "3  Went in for a lunch. Steak sandwich was delici...   en  \n",
       "4  Today was my second out of three sessions I ha...   en  "
      ]
     },
     "execution_count": 31,
     "metadata": {},
     "output_type": "execute_result"
    }
   ],
   "source": [
    "review_df.head()"
   ]
  },
  {
   "cell_type": "code",
   "execution_count": 32,
   "metadata": {},
   "outputs": [
    {
     "data": {
      "text/html": [
       "<div>\n",
       "<style scoped>\n",
       "    .dataframe tbody tr th:only-of-type {\n",
       "        vertical-align: middle;\n",
       "    }\n",
       "\n",
       "    .dataframe tbody tr th {\n",
       "        vertical-align: top;\n",
       "    }\n",
       "\n",
       "    .dataframe thead th {\n",
       "        text-align: right;\n",
       "    }\n",
       "</style>\n",
       "<table border=\"1\" class=\"dataframe\">\n",
       "  <thead>\n",
       "    <tr style=\"text-align: right;\">\n",
       "      <th></th>\n",
       "      <th>stars</th>\n",
       "    </tr>\n",
       "  </thead>\n",
       "  <tbody>\n",
       "    <tr>\n",
       "      <th>count</th>\n",
       "      <td>9953.000000</td>\n",
       "    </tr>\n",
       "    <tr>\n",
       "      <th>mean</th>\n",
       "      <td>3.715463</td>\n",
       "    </tr>\n",
       "    <tr>\n",
       "      <th>std</th>\n",
       "      <td>1.473240</td>\n",
       "    </tr>\n",
       "    <tr>\n",
       "      <th>min</th>\n",
       "      <td>1.000000</td>\n",
       "    </tr>\n",
       "    <tr>\n",
       "      <th>25%</th>\n",
       "      <td>3.000000</td>\n",
       "    </tr>\n",
       "    <tr>\n",
       "      <th>50%</th>\n",
       "      <td>4.000000</td>\n",
       "    </tr>\n",
       "    <tr>\n",
       "      <th>75%</th>\n",
       "      <td>5.000000</td>\n",
       "    </tr>\n",
       "    <tr>\n",
       "      <th>max</th>\n",
       "      <td>5.000000</td>\n",
       "    </tr>\n",
       "  </tbody>\n",
       "</table>\n",
       "</div>"
      ],
      "text/plain": [
       "             stars\n",
       "count  9953.000000\n",
       "mean      3.715463\n",
       "std       1.473240\n",
       "min       1.000000\n",
       "25%       3.000000\n",
       "50%       4.000000\n",
       "75%       5.000000\n",
       "max       5.000000"
      ]
     },
     "execution_count": 32,
     "metadata": {},
     "output_type": "execute_result"
    }
   ],
   "source": [
    "review_df.describe()"
   ]
  },
  {
   "cell_type": "code",
   "execution_count": 33,
   "metadata": {
    "scrolled": false
   },
   "outputs": [
    {
     "data": {
      "text/plain": [
       "business_id     object\n",
       "stars          float64\n",
       "text            object\n",
       "lang            object\n",
       "dtype: object"
      ]
     },
     "execution_count": 33,
     "metadata": {},
     "output_type": "execute_result"
    }
   ],
   "source": [
    "review_df.dtypes"
   ]
  },
  {
   "cell_type": "code",
   "execution_count": 34,
   "metadata": {},
   "outputs": [],
   "source": [
    "review_df['text'] = review_df['text'].astype('str') "
   ]
  },
  {
   "cell_type": "code",
   "execution_count": 36,
   "metadata": {},
   "outputs": [
    {
     "data": {
      "text/plain": [
       "business_id     object\n",
       "stars          float64\n",
       "text            object\n",
       "lang            object\n",
       "dtype: object"
      ]
     },
     "execution_count": 36,
     "metadata": {},
     "output_type": "execute_result"
    }
   ],
   "source": [
    "review_df.dtypes"
   ]
  },
  {
   "cell_type": "code",
   "execution_count": 8,
   "metadata": {},
   "outputs": [
    {
     "data": {
      "text/plain": [
       "<seaborn.axisgrid.FacetGrid at 0x1a231727b8>"
      ]
     },
     "execution_count": 8,
     "metadata": {},
     "output_type": "execute_result"
    },
    {
     "data": {
      "image/png": "[encoded data removed]",
      "text/plain": [
       "<Figure size 720x360 with 1 Axes>"
      ]
     },
     "metadata": {
      "needs_background": "light"
     },
     "output_type": "display_data"
    }
   ],
   "source": [
    "plot  = sns.catplot(\"stars\", data=review_df, aspect=2, kind=\"count\", color='steelblue')\n",
    "plot"
   ]
  },
  {
   "cell_type": "code",
   "execution_count": 14,
   "metadata": {},
   "outputs": [],
   "source": [
    "def check_stars(x):\n",
    "    '''\n",
    "    1. Takes the input and checks if its positive or negative or neutral and assigns it to the label\n",
    "    2. Returns the label\n",
    "    '''\n",
    "    label = 'positive' if x > 3.0 else ('neutral' if x == 3.0 else 'negative')\n",
    "    return label"
   ]
  },
  {
   "cell_type": "code",
   "execution_count": 38,
   "metadata": {},
   "outputs": [],
   "source": [
    "def pre_process(x):\n",
    "    '''\n",
    "    Takes in variables, then performs the following:\n",
    "    1. Assigns the varaibles to dataframe\n",
    "    2. Calculates Polarity of each review and returns it to a new column in yelp dataframe\n",
    "    3. Calculates Sentiment_lablel of each review and returns it to a new column in yelp dataframe\n",
    "    4. Assigns the text, stars and sentiment_label to 2 variables and returns the variables\n",
    "    '''\n",
    "        \n",
    "    yelp = x\n",
    "    \n",
    "    yelp['sentiment'] = yelp['text'].apply(lambda review: TextBlob(review).polarity)\n",
    "    \n",
    "    yelp['sentiment_label'] = yelp['sentiment'].apply(lambda row: check_stars(row))\n",
    "    \n",
    "    yelp = yelp.dropna()\n",
    "    \n",
    "    \n",
    "    \n",
    "    return yelp"
   ]
  },
  {
   "cell_type": "code",
   "execution_count": 39,
   "metadata": {},
   "outputs": [
    {
     "data": {
      "text/html": [
       "<div>\n",
       "<style scoped>\n",
       "    .dataframe tbody tr th:only-of-type {\n",
       "        vertical-align: middle;\n",
       "    }\n",
       "\n",
       "    .dataframe tbody tr th {\n",
       "        vertical-align: top;\n",
       "    }\n",
       "\n",
       "    .dataframe thead th {\n",
       "        text-align: right;\n",
       "    }\n",
       "</style>\n",
       "<table border=\"1\" class=\"dataframe\">\n",
       "  <thead>\n",
       "    <tr style=\"text-align: right;\">\n",
       "      <th></th>\n",
       "      <th>business_id</th>\n",
       "      <th>stars</th>\n",
       "      <th>text</th>\n",
       "      <th>lang</th>\n",
       "      <th>sentiment</th>\n",
       "      <th>sentiment_label</th>\n",
       "    </tr>\n",
       "  </thead>\n",
       "  <tbody>\n",
       "    <tr>\n",
       "      <th>0</th>\n",
       "      <td>ujmEBvifdJM6h6RLv4wQIg</td>\n",
       "      <td>1.0</td>\n",
       "      <td>Total bill for this horrible service? Over $8G...</td>\n",
       "      <td>en</td>\n",
       "      <td>-0.333333</td>\n",
       "      <td>negative</td>\n",
       "    </tr>\n",
       "    <tr>\n",
       "      <th>1</th>\n",
       "      <td>NZnhc2sEQy3RmzKTZnqtwQ</td>\n",
       "      <td>5.0</td>\n",
       "      <td>I *adore* Travis at the Hard Rock's new Kelly ...</td>\n",
       "      <td>en</td>\n",
       "      <td>0.315810</td>\n",
       "      <td>negative</td>\n",
       "    </tr>\n",
       "    <tr>\n",
       "      <th>2</th>\n",
       "      <td>WTqjgwHlXbSFevF32_DJVw</td>\n",
       "      <td>5.0</td>\n",
       "      <td>I have to say that this office really has it t...</td>\n",
       "      <td>en</td>\n",
       "      <td>0.429125</td>\n",
       "      <td>negative</td>\n",
       "    </tr>\n",
       "    <tr>\n",
       "      <th>3</th>\n",
       "      <td>ikCg8xy5JIg_NGPx-MSIDA</td>\n",
       "      <td>5.0</td>\n",
       "      <td>Went in for a lunch. Steak sandwich was delici...</td>\n",
       "      <td>en</td>\n",
       "      <td>0.832500</td>\n",
       "      <td>negative</td>\n",
       "    </tr>\n",
       "    <tr>\n",
       "      <th>4</th>\n",
       "      <td>b1b1eb3uo-w561D0ZfCEiQ</td>\n",
       "      <td>1.0</td>\n",
       "      <td>Today was my second out of three sessions I ha...</td>\n",
       "      <td>en</td>\n",
       "      <td>0.049277</td>\n",
       "      <td>negative</td>\n",
       "    </tr>\n",
       "  </tbody>\n",
       "</table>\n",
       "</div>"
      ],
      "text/plain": [
       "              business_id  stars  \\\n",
       "0  ujmEBvifdJM6h6RLv4wQIg    1.0   \n",
       "1  NZnhc2sEQy3RmzKTZnqtwQ    5.0   \n",
       "2  WTqjgwHlXbSFevF32_DJVw    5.0   \n",
       "3  ikCg8xy5JIg_NGPx-MSIDA    5.0   \n",
       "4  b1b1eb3uo-w561D0ZfCEiQ    1.0   \n",
       "\n",
       "                                                text lang  sentiment  \\\n",
       "0  Total bill for this horrible service? Over $8G...   en  -0.333333   \n",
       "1  I *adore* Travis at the Hard Rock's new Kelly ...   en   0.315810   \n",
       "2  I have to say that this office really has it t...   en   0.429125   \n",
       "3  Went in for a lunch. Steak sandwich was delici...   en   0.832500   \n",
       "4  Today was my second out of three sessions I ha...   en   0.049277   \n",
       "\n",
       "  sentiment_label  \n",
       "0        negative  \n",
       "1        negative  \n",
       "2        negative  \n",
       "3        negative  \n",
       "4        negative  "
      ]
     },
     "execution_count": 39,
     "metadata": {},
     "output_type": "execute_result"
    }
   ],
   "source": [
    "yelp_df = pre_process(review_df)\n",
    "yelp_df.head()"
   ]
  },
  {
   "cell_type": "code",
   "execution_count": 40,
   "metadata": {},
   "outputs": [
    {
     "data": {
      "text/html": [
       "<div>\n",
       "<style scoped>\n",
       "    .dataframe tbody tr th:only-of-type {\n",
       "        vertical-align: middle;\n",
       "    }\n",
       "\n",
       "    .dataframe tbody tr th {\n",
       "        vertical-align: top;\n",
       "    }\n",
       "\n",
       "    .dataframe thead th {\n",
       "        text-align: right;\n",
       "    }\n",
       "</style>\n",
       "<table border=\"1\" class=\"dataframe\">\n",
       "  <thead>\n",
       "    <tr style=\"text-align: right;\">\n",
       "      <th></th>\n",
       "      <th>business_id</th>\n",
       "      <th>stars</th>\n",
       "      <th>text</th>\n",
       "      <th>lang</th>\n",
       "      <th>sentiment</th>\n",
       "      <th>sentiment_label</th>\n",
       "    </tr>\n",
       "  </thead>\n",
       "  <tbody>\n",
       "    <tr>\n",
       "      <th>0</th>\n",
       "      <td>ujmEBvifdJM6h6RLv4wQIg</td>\n",
       "      <td>1.0</td>\n",
       "      <td>[total, bill, for, this, horrible, service, ov...</td>\n",
       "      <td>en</td>\n",
       "      <td>-0.333333</td>\n",
       "      <td>negative</td>\n",
       "    </tr>\n",
       "    <tr>\n",
       "      <th>1</th>\n",
       "      <td>NZnhc2sEQy3RmzKTZnqtwQ</td>\n",
       "      <td>5.0</td>\n",
       "      <td>[i, adore, travis, at, the, hard, rock, s, new...</td>\n",
       "      <td>en</td>\n",
       "      <td>0.315810</td>\n",
       "      <td>negative</td>\n",
       "    </tr>\n",
       "    <tr>\n",
       "      <th>2</th>\n",
       "      <td>WTqjgwHlXbSFevF32_DJVw</td>\n",
       "      <td>5.0</td>\n",
       "      <td>[i, have, to, say, that, this, office, really,...</td>\n",
       "      <td>en</td>\n",
       "      <td>0.429125</td>\n",
       "      <td>negative</td>\n",
       "    </tr>\n",
       "    <tr>\n",
       "      <th>3</th>\n",
       "      <td>ikCg8xy5JIg_NGPx-MSIDA</td>\n",
       "      <td>5.0</td>\n",
       "      <td>[went, in, for, a, lunch, steak, sandwich, was...</td>\n",
       "      <td>en</td>\n",
       "      <td>0.832500</td>\n",
       "      <td>negative</td>\n",
       "    </tr>\n",
       "    <tr>\n",
       "      <th>4</th>\n",
       "      <td>b1b1eb3uo-w561D0ZfCEiQ</td>\n",
       "      <td>1.0</td>\n",
       "      <td>[today, was, my, second, out, of, three, sessi...</td>\n",
       "      <td>en</td>\n",
       "      <td>0.049277</td>\n",
       "      <td>negative</td>\n",
       "    </tr>\n",
       "  </tbody>\n",
       "</table>\n",
       "</div>"
      ],
      "text/plain": [
       "              business_id  stars  \\\n",
       "0  ujmEBvifdJM6h6RLv4wQIg    1.0   \n",
       "1  NZnhc2sEQy3RmzKTZnqtwQ    5.0   \n",
       "2  WTqjgwHlXbSFevF32_DJVw    5.0   \n",
       "3  ikCg8xy5JIg_NGPx-MSIDA    5.0   \n",
       "4  b1b1eb3uo-w561D0ZfCEiQ    1.0   \n",
       "\n",
       "                                                text lang  sentiment  \\\n",
       "0  [total, bill, for, this, horrible, service, ov...   en  -0.333333   \n",
       "1  [i, adore, travis, at, the, hard, rock, s, new...   en   0.315810   \n",
       "2  [i, have, to, say, that, this, office, really,...   en   0.429125   \n",
       "3  [went, in, for, a, lunch, steak, sandwich, was...   en   0.832500   \n",
       "4  [today, was, my, second, out, of, three, sessi...   en   0.049277   \n",
       "\n",
       "  sentiment_label  \n",
       "0        negative  \n",
       "1        negative  \n",
       "2        negative  \n",
       "3        negative  \n",
       "4        negative  "
      ]
     },
     "execution_count": 40,
     "metadata": {},
     "output_type": "execute_result"
    }
   ],
   "source": [
    "#tokenize without the punctuation\n",
    "from nltk.tokenize import RegexpTokenizer\n",
    "\n",
    "tokenizer = RegexpTokenizer(r'\\w+')\n",
    "yelp_df['text'] = yelp_df['text'].apply(lambda x: x.lower())\n",
    "# tokenize\n",
    "yelp_df['text'] = yelp_df['text'].apply(lambda x: tokenizer.tokenize(x))\n",
    "# visual check\n",
    "yelp_df.head()"
   ]
  },
  {
   "cell_type": "code",
   "execution_count": 41,
   "metadata": {},
   "outputs": [],
   "source": [
    "def count_unique(words):\n",
    "    uniq = set()\n",
    "    for sentence in words:\n",
    "        for word in sentence:\n",
    "            uniq.add(word)\n",
    "    return len(uniq)"
   ]
  },
  {
   "cell_type": "code",
   "execution_count": 42,
   "metadata": {
    "scrolled": true
   },
   "outputs": [
    {
     "data": {
      "text/plain": [
       "25419"
      ]
     },
     "execution_count": 42,
     "metadata": {},
     "output_type": "execute_result"
    }
   ],
   "source": [
    "# Check feature count\n",
    "count_unique(yelp_df['text'])"
   ]
  },
  {
   "cell_type": "code",
   "execution_count": 13,
   "metadata": {},
   "outputs": [
    {
     "name": "stdout",
     "output_type": "stream",
     "text": [
      "{'her', 'from', 'my', 'aren', \"couldn't\", 'on', 'couldn', \"doesn't\", \"mustn't\", 'yours', 'his', 'o', 'once', 'other', 'will', 'me', 'yourselves', 'ma', 'them', 'are', 'by', 'more', 'isn', 'you', 'and', 'over', \"aren't\", 'been', 'weren', 'against', 'had', 'any', 'here', \"hadn't\", 'mustn', 'then', 'through', 'further', 'theirs', \"that'll\", 'was', 'having', 'our', 'after', 'yourself', 'before', 'when', 'hasn', 'very', 'he', 'ain', 'y', 'most', 're', 'myself', 'shouldn', 'which', \"she's\", 's', 'do', \"wasn't\", 'needn', 'or', 'the', 'be', 'just', 'again', 'where', 'their', \"it's\", 've', 'so', 'under', 'both', 'hadn', 'few', 'own', \"wouldn't\", 'such', 'll', 'whom', 'in', 'didn', 'm', 'were', 'about', \"you're\", 'is', 'too', 'your', 'off', \"shouldn't\", 'mightn', 'this', 'wasn', 'not', 'themselves', 't', 'those', 'than', \"you'll\", \"hasn't\", \"didn't\", 'has', 'a', 'ourselves', 'being', 'of', 'am', 'does', 'these', \"shan't\", 'wouldn', \"should've\", 'for', \"needn't\", 'out', 'that', 'who', 'should', 'what', 'until', 'himself', \"you'd\", 'they', 'between', 'doesn', 'd', 'no', 'but', \"don't\", 'if', 'to', 'its', 'can', 'below', 'why', \"won't\", 'nor', 'we', 'have', 'as', 'up', 'each', 'an', 'during', 'itself', 'how', 'now', 'did', 'don', 'down', 'all', 'while', \"isn't\", 'herself', 'hers', \"weren't\", 'haven', 'there', 'at', 'won', 'ours', 'him', \"mightn't\", 'above', \"haven't\", \"you've\", 'with', 'same', 'doing', 'i', 'because', 'some', 'shan', 'only', 'she', 'into', 'it'}\n"
     ]
    }
   ],
   "source": [
    "stop = set(stopwords.words('english'))\n",
    "print(stop)"
   ]
  },
  {
   "cell_type": "code",
   "execution_count": 28,
   "metadata": {},
   "outputs": [],
   "source": [
    "def stop_words(words):\n",
    "    stop = set(stopwords.words('english'))\n",
    "    # Ensure \"not\" is kept\n",
    "    stop.remove(\"not\")\n",
    "    return [item for item in words if item not in stop]"
   ]
  },
  {
   "cell_type": "code",
   "execution_count": 29,
   "metadata": {},
   "outputs": [],
   "source": [
    "yelp_df['text_stop'] = yelp_df['text'].apply(lambda review: stop_words(review))"
   ]
  },
  {
   "cell_type": "code",
   "execution_count": 30,
   "metadata": {},
   "outputs": [
    {
     "data": {
      "text/html": [
       "<div>\n",
       "<style scoped>\n",
       "    .dataframe tbody tr th:only-of-type {\n",
       "        vertical-align: middle;\n",
       "    }\n",
       "\n",
       "    .dataframe tbody tr th {\n",
       "        vertical-align: top;\n",
       "    }\n",
       "\n",
       "    .dataframe thead th {\n",
       "        text-align: right;\n",
       "    }\n",
       "</style>\n",
       "<table border=\"1\" class=\"dataframe\">\n",
       "  <thead>\n",
       "    <tr style=\"text-align: right;\">\n",
       "      <th></th>\n",
       "      <th>business_id</th>\n",
       "      <th>stars</th>\n",
       "      <th>text</th>\n",
       "      <th>lang</th>\n",
       "      <th>text_stop</th>\n",
       "    </tr>\n",
       "  </thead>\n",
       "  <tbody>\n",
       "    <tr>\n",
       "      <th>0</th>\n",
       "      <td>ujmEBvifdJM6h6RLv4wQIg</td>\n",
       "      <td>1.0</td>\n",
       "      <td>[total, bill, for, this, horrible, service, ov...</td>\n",
       "      <td>en</td>\n",
       "      <td>[total, bill, horrible, service, 8gs, crooks, ...</td>\n",
       "    </tr>\n",
       "    <tr>\n",
       "      <th>1</th>\n",
       "      <td>NZnhc2sEQy3RmzKTZnqtwQ</td>\n",
       "      <td>5.0</td>\n",
       "      <td>[i, adore, travis, at, the, hard, rock, s, new...</td>\n",
       "      <td>en</td>\n",
       "      <td>[adore, travis, hard, rock, new, kelly, carden...</td>\n",
       "    </tr>\n",
       "    <tr>\n",
       "      <th>2</th>\n",
       "      <td>WTqjgwHlXbSFevF32_DJVw</td>\n",
       "      <td>5.0</td>\n",
       "      <td>[i, have, to, say, that, this, office, really,...</td>\n",
       "      <td>en</td>\n",
       "      <td>[say, office, really, together, organized, fri...</td>\n",
       "    </tr>\n",
       "    <tr>\n",
       "      <th>3</th>\n",
       "      <td>ikCg8xy5JIg_NGPx-MSIDA</td>\n",
       "      <td>5.0</td>\n",
       "      <td>[went, in, for, a, lunch, steak, sandwich, was...</td>\n",
       "      <td>en</td>\n",
       "      <td>[went, lunch, steak, sandwich, delicious, caes...</td>\n",
       "    </tr>\n",
       "    <tr>\n",
       "      <th>4</th>\n",
       "      <td>b1b1eb3uo-w561D0ZfCEiQ</td>\n",
       "      <td>1.0</td>\n",
       "      <td>[today, was, my, second, out, of, three, sessi...</td>\n",
       "      <td>en</td>\n",
       "      <td>[today, second, three, sessions, paid, althoug...</td>\n",
       "    </tr>\n",
       "  </tbody>\n",
       "</table>\n",
       "</div>"
      ],
      "text/plain": [
       "              business_id  stars  \\\n",
       "0  ujmEBvifdJM6h6RLv4wQIg    1.0   \n",
       "1  NZnhc2sEQy3RmzKTZnqtwQ    5.0   \n",
       "2  WTqjgwHlXbSFevF32_DJVw    5.0   \n",
       "3  ikCg8xy5JIg_NGPx-MSIDA    5.0   \n",
       "4  b1b1eb3uo-w561D0ZfCEiQ    1.0   \n",
       "\n",
       "                                                text lang  \\\n",
       "0  [total, bill, for, this, horrible, service, ov...   en   \n",
       "1  [i, adore, travis, at, the, hard, rock, s, new...   en   \n",
       "2  [i, have, to, say, that, this, office, really,...   en   \n",
       "3  [went, in, for, a, lunch, steak, sandwich, was...   en   \n",
       "4  [today, was, my, second, out, of, three, sessi...   en   \n",
       "\n",
       "                                           text_stop  \n",
       "0  [total, bill, horrible, service, 8gs, crooks, ...  \n",
       "1  [adore, travis, hard, rock, new, kelly, carden...  \n",
       "2  [say, office, really, together, organized, fri...  \n",
       "3  [went, lunch, steak, sandwich, delicious, caes...  \n",
       "4  [today, second, three, sessions, paid, althoug...  "
      ]
     },
     "execution_count": 30,
     "metadata": {},
     "output_type": "execute_result"
    }
   ],
   "source": [
    "yelp_df.head()"
   ]
  },
  {
   "cell_type": "code",
   "execution_count": null,
   "metadata": {},
   "outputs": [],
   "source": []
  }
 ],
 "metadata": {
  "kernelspec": {
   "display_name": "Python 3",
   "language": "python",
   "name": "python3"
  },
  "language_info": {
   "codemirror_mode": {
    "name": "ipython",
    "version": 3
   },
   "file_extension": ".py",
   "mimetype": "text/x-python",
   "name": "python",
   "nbconvert_exporter": "python",
   "pygments_lexer": "ipython3",
   "version": "3.7.1"
  }
 },
 "nbformat": 4,
 "nbformat_minor": 2
}
